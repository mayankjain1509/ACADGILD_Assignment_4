{
 "cells": [
  {
   "cell_type": "markdown",
   "metadata": {},
   "source": [
    "# Assignment No 4 (Task 1 and Task 2)"
   ]
  },
  {
   "cell_type": "code",
   "execution_count": 10,
   "metadata": {},
   "outputs": [],
   "source": [
    "# Question No 1\n",
    "# Moving Average \n",
    "# Write a function to find moving average in an array over a window:\n",
    "# Test it over [3, 5, 7, 2, 8, 10, 11, 65, 72, 81, 99, 100, 150] and window of 3"
   ]
  },
  {
   "cell_type": "code",
   "execution_count": 11,
   "metadata": {},
   "outputs": [],
   "source": [
    "import numpy as np\n",
    "import pandas as pd"
   ]
  },
  {
   "cell_type": "code",
   "execution_count": 12,
   "metadata": {},
   "outputs": [],
   "source": [
    "def moving_avg(data,window):\n",
    "    for i in range(len(data)-window):\n",
    "        y=np.sum(data[i:i+window])\n",
    "        print(y/window)"
   ]
  },
  {
   "cell_type": "code",
   "execution_count": 13,
   "metadata": {},
   "outputs": [
    {
     "name": "stdout",
     "output_type": "stream",
     "text": [
      "5.0\n",
      "4.666666666666667\n",
      "5.666666666666667\n",
      "6.666666666666667\n",
      "9.666666666666666\n",
      "28.666666666666668\n",
      "49.333333333333336\n",
      "72.66666666666667\n",
      "84.0\n",
      "93.33333333333333\n"
     ]
    }
   ],
   "source": [
    "data = [3, 5, 7, 2, 8, 10, 11, 65, 72, 81, 99, 100, 150]\n",
    "moving_avg(data,3)"
   ]
  },
  {
   "cell_type": "markdown",
   "metadata": {},
   "source": [
    "# Task 2\n"
   ]
  },
  {
   "cell_type": "code",
   "execution_count": null,
   "metadata": {},
   "outputs": [],
   "source": [
    "# Question No 1\n",
    "#For each value, count the difference back to the previous zero (or the start of the Series,whichever is closer) create a \n",
    "#new column 'Y' Consider a DataFrame df where there is an integer column 'X' \n",
    "#import pandas as pd df = pd.DataFrame({'X': [7, 2, 0, 3, 4, 2, 5, 0, 3, 4]})"
   ]
  },
  {
   "cell_type": "code",
   "execution_count": 14,
   "metadata": {},
   "outputs": [
    {
     "data": {
      "text/plain": [
       "[1, 2, 0, 1, 2, 3, 4, 0, 1, 2]"
      ]
     },
     "execution_count": 14,
     "metadata": {},
     "output_type": "execute_result"
    }
   ],
   "source": [
    "import pandas as pd\n",
    "s = pd.Series([7, 2, 0, 3, 4, 2, 5, 0, 3, 4])\n",
    "(s.groupby(s.eq(0).cumsum().mask(s.eq(0))).cumcount() + 1).mask(s.eq(0), 0).tolist()"
   ]
  },
  {
   "cell_type": "code",
   "execution_count": null,
   "metadata": {},
   "outputs": [],
   "source": [
    "#Question No 2\n",
    "#Create a DatetimeIndex that contains each business day of 2015 and use it to index a Series of random numbers."
   ]
  },
  {
   "cell_type": "code",
   "execution_count": 15,
   "metadata": {},
   "outputs": [
    {
     "data": {
      "text/plain": [
       "2015-01-01    0.182306\n",
       "2015-01-02    0.805831\n",
       "2015-01-05    0.946876\n",
       "2015-01-06    0.284751\n",
       "2015-01-07    0.759826\n",
       "2015-01-08    0.100888\n",
       "2015-01-09    0.874126\n",
       "2015-01-12    0.315873\n",
       "2015-01-13    0.848527\n",
       "2015-01-14    0.549137\n",
       "2015-01-15    0.413199\n",
       "2015-01-16    0.867533\n",
       "2015-01-19    0.774855\n",
       "2015-01-20    0.501523\n",
       "2015-01-21    0.771289\n",
       "2015-01-22    0.362405\n",
       "2015-01-23    0.930762\n",
       "2015-01-26    0.234986\n",
       "2015-01-27    0.025314\n",
       "2015-01-28    0.306025\n",
       "2015-01-29    0.521447\n",
       "2015-01-30    0.072324\n",
       "2015-02-02    0.215101\n",
       "2015-02-03    0.952141\n",
       "2015-02-04    0.451595\n",
       "2015-02-05    0.455748\n",
       "2015-02-06    0.531906\n",
       "2015-02-09    0.091761\n",
       "2015-02-10    0.490427\n",
       "2015-02-11    0.592127\n",
       "                ...   \n",
       "2015-11-20    0.866739\n",
       "2015-11-23    0.656450\n",
       "2015-11-24    0.595070\n",
       "2015-11-25    0.092494\n",
       "2015-11-26    0.040144\n",
       "2015-11-27    0.501460\n",
       "2015-11-30    0.499641\n",
       "2015-12-01    0.852626\n",
       "2015-12-02    0.057364\n",
       "2015-12-03    0.948451\n",
       "2015-12-04    0.984416\n",
       "2015-12-07    0.847584\n",
       "2015-12-08    0.879556\n",
       "2015-12-09    0.966336\n",
       "2015-12-10    0.964344\n",
       "2015-12-11    0.169119\n",
       "2015-12-14    0.831642\n",
       "2015-12-15    0.456059\n",
       "2015-12-16    0.530725\n",
       "2015-12-17    0.711656\n",
       "2015-12-18    0.086164\n",
       "2015-12-21    0.970957\n",
       "2015-12-22    0.958345\n",
       "2015-12-23    0.091956\n",
       "2015-12-24    0.773665\n",
       "2015-12-25    0.068693\n",
       "2015-12-28    0.205081\n",
       "2015-12-29    0.605663\n",
       "2015-12-30    0.067834\n",
       "2015-12-31    0.028015\n",
       "Freq: B, Length: 261, dtype: float64"
      ]
     },
     "execution_count": 15,
     "metadata": {},
     "output_type": "execute_result"
    }
   ],
   "source": [
    "import numpy as np\n",
    "dti = pd.date_range(start='2015-01-01', end='2015-12-31', freq='B')\n",
    "s = pd.Series(np.random.rand(len(dti)), index=dti)\n",
    "s"
   ]
  },
  {
   "cell_type": "code",
   "execution_count": 16,
   "metadata": {},
   "outputs": [
    {
     "data": {
      "text/plain": [
       "24.742527238987265"
      ]
     },
     "execution_count": 16,
     "metadata": {},
     "output_type": "execute_result"
    }
   ],
   "source": [
    "# Question No 3\n",
    "# Find the sum of the values in s for every Wednesday.\n",
    "s[dti.weekday == 2].sum()"
   ]
  },
  {
   "cell_type": "code",
   "execution_count": 17,
   "metadata": {},
   "outputs": [
    {
     "data": {
      "text/plain": [
       "2015-01-31    0.520446\n",
       "2015-02-28    0.476470\n",
       "2015-03-31    0.510331\n",
       "2015-04-30    0.462536\n",
       "2015-05-31    0.513639\n",
       "2015-06-30    0.524880\n",
       "2015-07-31    0.510041\n",
       "2015-08-31    0.482104\n",
       "2015-09-30    0.439271\n",
       "2015-10-31    0.577126\n",
       "2015-11-30    0.499428\n",
       "2015-12-31    0.567663\n",
       "Freq: M, dtype: float64"
      ]
     },
     "execution_count": 17,
     "metadata": {},
     "output_type": "execute_result"
    }
   ],
   "source": [
    "# Question No 4\n",
    "#Average For each calendar month\n",
    "#s.resample('M', how='mean')\n",
    "s.resample('M').mean()"
   ]
  },
  {
   "cell_type": "code",
   "execution_count": 18,
   "metadata": {},
   "outputs": [
    {
     "name": "stderr",
     "output_type": "stream",
     "text": [
      "C:\\Users\\user\\Anaconda3\\lib\\site-packages\\ipykernel_launcher.py:2: FutureWarning: pd.TimeGrouper is deprecated and will be removed; Please use pd.Grouper(freq=...)\n",
      "  \n"
     ]
    },
    {
     "data": {
      "text/plain": [
       "2015-01-31   2015-01-05\n",
       "2015-05-31   2015-03-25\n",
       "2015-09-30   2015-07-03\n",
       "2016-01-31   2015-10-15\n",
       "dtype: datetime64[ns]"
      ]
     },
     "execution_count": 18,
     "metadata": {},
     "output_type": "execute_result"
    }
   ],
   "source": [
    "# Question No 5\n",
    "#For each group of four consecutive calendar months in s, find the date on which the highest value occurred.\n",
    "s.groupby(pd.TimeGrouper('4M')).idxmax()"
   ]
  }
 ],
 "metadata": {
  "kernelspec": {
   "display_name": "Python 3",
   "language": "python",
   "name": "python3"
  },
  "language_info": {
   "codemirror_mode": {
    "name": "ipython",
    "version": 3
   },
   "file_extension": ".py",
   "mimetype": "text/x-python",
   "name": "python",
   "nbconvert_exporter": "python",
   "pygments_lexer": "ipython3",
   "version": "3.6.4"
  }
 },
 "nbformat": 4,
 "nbformat_minor": 2
}
